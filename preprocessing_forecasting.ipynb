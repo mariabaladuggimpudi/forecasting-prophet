{
 "cells": [
  {
   "cell_type": "code",
   "execution_count": 1,
   "id": "179b58f7",
   "metadata": {},
   "outputs": [],
   "source": [
    "import prophet as pro\n",
    "import numpy as np\n",
    "import pandas as pd\n",
    "import matplotlib.pyplot as plt"
   ]
  },
  {
   "cell_type": "code",
   "execution_count": 2,
   "id": "fabd7c6e",
   "metadata": {},
   "outputs": [],
   "source": [
    "df_sitting = pd.read_csv('resources/success_trans0725_0824.csv', parse_dates=['time'])\n",
    "df_standing = pd.read_csv('resources/failed_trans0725_0824.csv', parse_dates=['time'])"
   ]
  },
  {
   "cell_type": "code",
   "execution_count": 3,
   "id": "047cd5c9",
   "metadata": {},
   "outputs": [
    {
     "data": {
      "text/plain": [
       "(8641, 2)"
      ]
     },
     "execution_count": 3,
     "metadata": {},
     "output_type": "execute_result"
    }
   ],
   "source": [
    "df_sitting.shape"
   ]
  },
  {
   "cell_type": "code",
   "execution_count": 4,
   "id": "23949220",
   "metadata": {},
   "outputs": [
    {
     "data": {
      "text/plain": [
       "(5040, 2)"
      ]
     },
     "execution_count": 4,
     "metadata": {},
     "output_type": "execute_result"
    }
   ],
   "source": [
    "df_standing.shape"
   ]
  },
  {
   "cell_type": "code",
   "execution_count": 5,
   "id": "28a12482",
   "metadata": {},
   "outputs": [
    {
     "data": {
      "text/html": [
       "<div>\n",
       "<style scoped>\n",
       "    .dataframe tbody tr th:only-of-type {\n",
       "        vertical-align: middle;\n",
       "    }\n",
       "\n",
       "    .dataframe tbody tr th {\n",
       "        vertical-align: top;\n",
       "    }\n",
       "\n",
       "    .dataframe thead th {\n",
       "        text-align: right;\n",
       "    }\n",
       "</style>\n",
       "<table border=\"1\" class=\"dataframe\">\n",
       "  <thead>\n",
       "    <tr style=\"text-align: right;\">\n",
       "      <th></th>\n",
       "      <th>time</th>\n",
       "      <th>sitting_people</th>\n",
       "    </tr>\n",
       "  </thead>\n",
       "  <tbody>\n",
       "    <tr>\n",
       "      <th>0</th>\n",
       "      <td>2023-07-25 18:00:00+00:00</td>\n",
       "      <td>814</td>\n",
       "    </tr>\n",
       "    <tr>\n",
       "      <th>1</th>\n",
       "      <td>2023-07-25 18:05:00+00:00</td>\n",
       "      <td>954</td>\n",
       "    </tr>\n",
       "    <tr>\n",
       "      <th>2</th>\n",
       "      <td>2023-07-25 18:10:00+00:00</td>\n",
       "      <td>1054</td>\n",
       "    </tr>\n",
       "    <tr>\n",
       "      <th>3</th>\n",
       "      <td>2023-07-25 18:15:00+00:00</td>\n",
       "      <td>1274</td>\n",
       "    </tr>\n",
       "    <tr>\n",
       "      <th>4</th>\n",
       "      <td>2023-07-25 18:20:00+00:00</td>\n",
       "      <td>1766</td>\n",
       "    </tr>\n",
       "  </tbody>\n",
       "</table>\n",
       "</div>"
      ],
      "text/plain": [
       "                       time  sitting_people\n",
       "0 2023-07-25 18:00:00+00:00             814\n",
       "1 2023-07-25 18:05:00+00:00             954\n",
       "2 2023-07-25 18:10:00+00:00            1054\n",
       "3 2023-07-25 18:15:00+00:00            1274\n",
       "4 2023-07-25 18:20:00+00:00            1766"
      ]
     },
     "execution_count": 5,
     "metadata": {},
     "output_type": "execute_result"
    }
   ],
   "source": [
    "df_sitting.head()"
   ]
  },
  {
   "cell_type": "code",
   "execution_count": 7,
   "id": "d6e8d2d0",
   "metadata": {},
   "outputs": [
    {
     "data": {
      "text/html": [
       "<div>\n",
       "<style scoped>\n",
       "    .dataframe tbody tr th:only-of-type {\n",
       "        vertical-align: middle;\n",
       "    }\n",
       "\n",
       "    .dataframe tbody tr th {\n",
       "        vertical-align: top;\n",
       "    }\n",
       "\n",
       "    .dataframe thead th {\n",
       "        text-align: right;\n",
       "    }\n",
       "</style>\n",
       "<table border=\"1\" class=\"dataframe\">\n",
       "  <thead>\n",
       "    <tr style=\"text-align: right;\">\n",
       "      <th></th>\n",
       "      <th>time</th>\n",
       "      <th>sitting_people</th>\n",
       "    </tr>\n",
       "  </thead>\n",
       "  <tbody>\n",
       "    <tr>\n",
       "      <th>8636</th>\n",
       "      <td>2023-08-24 18:20:00+00:00</td>\n",
       "      <td>1674</td>\n",
       "    </tr>\n",
       "    <tr>\n",
       "      <th>8637</th>\n",
       "      <td>2023-08-24 18:25:00+00:00</td>\n",
       "      <td>1861</td>\n",
       "    </tr>\n",
       "    <tr>\n",
       "      <th>8638</th>\n",
       "      <td>2023-08-24 18:30:00+00:00</td>\n",
       "      <td>1561</td>\n",
       "    </tr>\n",
       "    <tr>\n",
       "      <th>8639</th>\n",
       "      <td>2023-08-24 18:35:00+00:00</td>\n",
       "      <td>1486</td>\n",
       "    </tr>\n",
       "    <tr>\n",
       "      <th>8640</th>\n",
       "      <td>2023-08-24 18:40:00+00:00</td>\n",
       "      <td>1579</td>\n",
       "    </tr>\n",
       "  </tbody>\n",
       "</table>\n",
       "</div>"
      ],
      "text/plain": [
       "                          time  sitting_people\n",
       "8636 2023-08-24 18:20:00+00:00            1674\n",
       "8637 2023-08-24 18:25:00+00:00            1861\n",
       "8638 2023-08-24 18:30:00+00:00            1561\n",
       "8639 2023-08-24 18:35:00+00:00            1486\n",
       "8640 2023-08-24 18:40:00+00:00            1579"
      ]
     },
     "execution_count": 7,
     "metadata": {},
     "output_type": "execute_result"
    }
   ],
   "source": [
    "df_sitting.tail()"
   ]
  },
  {
   "cell_type": "code",
   "execution_count": 8,
   "id": "b08229d3",
   "metadata": {},
   "outputs": [
    {
     "data": {
      "text/html": [
       "<div>\n",
       "<style scoped>\n",
       "    .dataframe tbody tr th:only-of-type {\n",
       "        vertical-align: middle;\n",
       "    }\n",
       "\n",
       "    .dataframe tbody tr th {\n",
       "        vertical-align: top;\n",
       "    }\n",
       "\n",
       "    .dataframe thead th {\n",
       "        text-align: right;\n",
       "    }\n",
       "</style>\n",
       "<table border=\"1\" class=\"dataframe\">\n",
       "  <thead>\n",
       "    <tr style=\"text-align: right;\">\n",
       "      <th></th>\n",
       "      <th>time</th>\n",
       "      <th>standing_people</th>\n",
       "    </tr>\n",
       "  </thead>\n",
       "  <tbody>\n",
       "    <tr>\n",
       "      <th>0</th>\n",
       "      <td>2023-07-25 19:00:00+00:00</td>\n",
       "      <td>12</td>\n",
       "    </tr>\n",
       "    <tr>\n",
       "      <th>1</th>\n",
       "      <td>2023-07-25 19:05:00+00:00</td>\n",
       "      <td>14</td>\n",
       "    </tr>\n",
       "    <tr>\n",
       "      <th>2</th>\n",
       "      <td>2023-07-25 19:10:00+00:00</td>\n",
       "      <td>26</td>\n",
       "    </tr>\n",
       "    <tr>\n",
       "      <th>3</th>\n",
       "      <td>2023-07-25 19:15:00+00:00</td>\n",
       "      <td>16</td>\n",
       "    </tr>\n",
       "    <tr>\n",
       "      <th>4</th>\n",
       "      <td>2023-07-25 19:20:00+00:00</td>\n",
       "      <td>14</td>\n",
       "    </tr>\n",
       "  </tbody>\n",
       "</table>\n",
       "</div>"
      ],
      "text/plain": [
       "                       time  standing_people\n",
       "0 2023-07-25 19:00:00+00:00               12\n",
       "1 2023-07-25 19:05:00+00:00               14\n",
       "2 2023-07-25 19:10:00+00:00               26\n",
       "3 2023-07-25 19:15:00+00:00               16\n",
       "4 2023-07-25 19:20:00+00:00               14"
      ]
     },
     "execution_count": 8,
     "metadata": {},
     "output_type": "execute_result"
    }
   ],
   "source": [
    "df_standing.head()"
   ]
  },
  {
   "cell_type": "code",
   "execution_count": 9,
   "id": "3364c1bb",
   "metadata": {},
   "outputs": [
    {
     "data": {
      "text/html": [
       "<div>\n",
       "<style scoped>\n",
       "    .dataframe tbody tr th:only-of-type {\n",
       "        vertical-align: middle;\n",
       "    }\n",
       "\n",
       "    .dataframe tbody tr th {\n",
       "        vertical-align: top;\n",
       "    }\n",
       "\n",
       "    .dataframe thead th {\n",
       "        text-align: right;\n",
       "    }\n",
       "</style>\n",
       "<table border=\"1\" class=\"dataframe\">\n",
       "  <thead>\n",
       "    <tr style=\"text-align: right;\">\n",
       "      <th></th>\n",
       "      <th>time</th>\n",
       "      <th>standing_people</th>\n",
       "    </tr>\n",
       "  </thead>\n",
       "  <tbody>\n",
       "    <tr>\n",
       "      <th>5035</th>\n",
       "      <td>2023-08-24 18:35:00+00:00</td>\n",
       "      <td>3</td>\n",
       "    </tr>\n",
       "    <tr>\n",
       "      <th>5036</th>\n",
       "      <td>2023-08-24 18:40:00+00:00</td>\n",
       "      <td>2</td>\n",
       "    </tr>\n",
       "    <tr>\n",
       "      <th>5037</th>\n",
       "      <td>2023-08-24 18:45:00+00:00</td>\n",
       "      <td>2</td>\n",
       "    </tr>\n",
       "    <tr>\n",
       "      <th>5038</th>\n",
       "      <td>2023-08-24 18:50:00+00:00</td>\n",
       "      <td>5</td>\n",
       "    </tr>\n",
       "    <tr>\n",
       "      <th>5039</th>\n",
       "      <td>2023-08-24 19:00:00+00:00</td>\n",
       "      <td>11</td>\n",
       "    </tr>\n",
       "  </tbody>\n",
       "</table>\n",
       "</div>"
      ],
      "text/plain": [
       "                          time  standing_people\n",
       "5035 2023-08-24 18:35:00+00:00                3\n",
       "5036 2023-08-24 18:40:00+00:00                2\n",
       "5037 2023-08-24 18:45:00+00:00                2\n",
       "5038 2023-08-24 18:50:00+00:00                5\n",
       "5039 2023-08-24 19:00:00+00:00               11"
      ]
     },
     "execution_count": 9,
     "metadata": {},
     "output_type": "execute_result"
    }
   ],
   "source": [
    "df_standing.tail()"
   ]
  },
  {
   "cell_type": "markdown",
   "id": "29eeda98",
   "metadata": {},
   "source": [
    "There seems to be some disparage between df_sitting(8641) and df_standing (5040)."
   ]
  },
  {
   "cell_type": "code",
   "execution_count": 10,
   "id": "ed4ce837",
   "metadata": {},
   "outputs": [],
   "source": [
    "# Taking exactly 30 days of sitting_transactions with 5 min interval\n",
    "df_sitting = df_sitting[:8632]"
   ]
  },
  {
   "cell_type": "code",
   "execution_count": 11,
   "id": "bf5e6141",
   "metadata": {},
   "outputs": [
    {
     "data": {
      "text/plain": [
       "(8632, 2)"
      ]
     },
     "execution_count": 11,
     "metadata": {},
     "output_type": "execute_result"
    }
   ],
   "source": [
    "df_sitting.shape"
   ]
  },
  {
   "cell_type": "code",
   "execution_count": 12,
   "id": "10ee97cd",
   "metadata": {},
   "outputs": [
    {
     "data": {
      "text/html": [
       "<div>\n",
       "<style scoped>\n",
       "    .dataframe tbody tr th:only-of-type {\n",
       "        vertical-align: middle;\n",
       "    }\n",
       "\n",
       "    .dataframe tbody tr th {\n",
       "        vertical-align: top;\n",
       "    }\n",
       "\n",
       "    .dataframe thead th {\n",
       "        text-align: right;\n",
       "    }\n",
       "</style>\n",
       "<table border=\"1\" class=\"dataframe\">\n",
       "  <thead>\n",
       "    <tr style=\"text-align: right;\">\n",
       "      <th></th>\n",
       "      <th>time</th>\n",
       "      <th>sitting_people</th>\n",
       "    </tr>\n",
       "  </thead>\n",
       "  <tbody>\n",
       "    <tr>\n",
       "      <th>8627</th>\n",
       "      <td>2023-08-24 17:35:00+00:00</td>\n",
       "      <td>1925</td>\n",
       "    </tr>\n",
       "    <tr>\n",
       "      <th>8628</th>\n",
       "      <td>2023-08-24 17:40:00+00:00</td>\n",
       "      <td>1747</td>\n",
       "    </tr>\n",
       "    <tr>\n",
       "      <th>8629</th>\n",
       "      <td>2023-08-24 17:45:00+00:00</td>\n",
       "      <td>1825</td>\n",
       "    </tr>\n",
       "    <tr>\n",
       "      <th>8630</th>\n",
       "      <td>2023-08-24 17:50:00+00:00</td>\n",
       "      <td>1734</td>\n",
       "    </tr>\n",
       "    <tr>\n",
       "      <th>8631</th>\n",
       "      <td>2023-08-24 17:55:00+00:00</td>\n",
       "      <td>2037</td>\n",
       "    </tr>\n",
       "  </tbody>\n",
       "</table>\n",
       "</div>"
      ],
      "text/plain": [
       "                          time  sitting_people\n",
       "8627 2023-08-24 17:35:00+00:00            1925\n",
       "8628 2023-08-24 17:40:00+00:00            1747\n",
       "8629 2023-08-24 17:45:00+00:00            1825\n",
       "8630 2023-08-24 17:50:00+00:00            1734\n",
       "8631 2023-08-24 17:55:00+00:00            2037"
      ]
     },
     "execution_count": 12,
     "metadata": {},
     "output_type": "execute_result"
    }
   ],
   "source": [
    "df_sitting.tail()"
   ]
  },
  {
   "cell_type": "code",
   "execution_count": 13,
   "id": "69483eb4",
   "metadata": {},
   "outputs": [
    {
     "data": {
      "text/html": [
       "<div>\n",
       "<style scoped>\n",
       "    .dataframe tbody tr th:only-of-type {\n",
       "        vertical-align: middle;\n",
       "    }\n",
       "\n",
       "    .dataframe tbody tr th {\n",
       "        vertical-align: top;\n",
       "    }\n",
       "\n",
       "    .dataframe thead th {\n",
       "        text-align: right;\n",
       "    }\n",
       "</style>\n",
       "<table border=\"1\" class=\"dataframe\">\n",
       "  <thead>\n",
       "    <tr style=\"text-align: right;\">\n",
       "      <th></th>\n",
       "      <th>time</th>\n",
       "      <th>sitting_people</th>\n",
       "    </tr>\n",
       "  </thead>\n",
       "  <tbody>\n",
       "    <tr>\n",
       "      <th>0</th>\n",
       "      <td>2023-07-25 18:00:00+00:00</td>\n",
       "      <td>814</td>\n",
       "    </tr>\n",
       "    <tr>\n",
       "      <th>1</th>\n",
       "      <td>2023-07-25 18:05:00+00:00</td>\n",
       "      <td>954</td>\n",
       "    </tr>\n",
       "    <tr>\n",
       "      <th>2</th>\n",
       "      <td>2023-07-25 18:10:00+00:00</td>\n",
       "      <td>1054</td>\n",
       "    </tr>\n",
       "    <tr>\n",
       "      <th>3</th>\n",
       "      <td>2023-07-25 18:15:00+00:00</td>\n",
       "      <td>1274</td>\n",
       "    </tr>\n",
       "    <tr>\n",
       "      <th>4</th>\n",
       "      <td>2023-07-25 18:20:00+00:00</td>\n",
       "      <td>1766</td>\n",
       "    </tr>\n",
       "  </tbody>\n",
       "</table>\n",
       "</div>"
      ],
      "text/plain": [
       "                       time  sitting_people\n",
       "0 2023-07-25 18:00:00+00:00             814\n",
       "1 2023-07-25 18:05:00+00:00             954\n",
       "2 2023-07-25 18:10:00+00:00            1054\n",
       "3 2023-07-25 18:15:00+00:00            1274\n",
       "4 2023-07-25 18:20:00+00:00            1766"
      ]
     },
     "execution_count": 13,
     "metadata": {},
     "output_type": "execute_result"
    }
   ],
   "source": [
    "df_sitting.head()"
   ]
  },
  {
   "cell_type": "code",
   "execution_count": 14,
   "id": "d2cb68b0",
   "metadata": {},
   "outputs": [],
   "source": [
    "df_sitting.columns = ['DS', 'Y']"
   ]
  },
  {
   "cell_type": "code",
   "execution_count": 15,
   "id": "1ab36997",
   "metadata": {},
   "outputs": [
    {
     "data": {
      "text/html": [
       "<div>\n",
       "<style scoped>\n",
       "    .dataframe tbody tr th:only-of-type {\n",
       "        vertical-align: middle;\n",
       "    }\n",
       "\n",
       "    .dataframe tbody tr th {\n",
       "        vertical-align: top;\n",
       "    }\n",
       "\n",
       "    .dataframe thead th {\n",
       "        text-align: right;\n",
       "    }\n",
       "</style>\n",
       "<table border=\"1\" class=\"dataframe\">\n",
       "  <thead>\n",
       "    <tr style=\"text-align: right;\">\n",
       "      <th></th>\n",
       "      <th>DS</th>\n",
       "      <th>Y</th>\n",
       "    </tr>\n",
       "  </thead>\n",
       "  <tbody>\n",
       "    <tr>\n",
       "      <th>0</th>\n",
       "      <td>2023-07-25 18:00:00+00:00</td>\n",
       "      <td>814</td>\n",
       "    </tr>\n",
       "    <tr>\n",
       "      <th>1</th>\n",
       "      <td>2023-07-25 18:05:00+00:00</td>\n",
       "      <td>954</td>\n",
       "    </tr>\n",
       "    <tr>\n",
       "      <th>2</th>\n",
       "      <td>2023-07-25 18:10:00+00:00</td>\n",
       "      <td>1054</td>\n",
       "    </tr>\n",
       "    <tr>\n",
       "      <th>3</th>\n",
       "      <td>2023-07-25 18:15:00+00:00</td>\n",
       "      <td>1274</td>\n",
       "    </tr>\n",
       "    <tr>\n",
       "      <th>4</th>\n",
       "      <td>2023-07-25 18:20:00+00:00</td>\n",
       "      <td>1766</td>\n",
       "    </tr>\n",
       "  </tbody>\n",
       "</table>\n",
       "</div>"
      ],
      "text/plain": [
       "                         DS     Y\n",
       "0 2023-07-25 18:00:00+00:00   814\n",
       "1 2023-07-25 18:05:00+00:00   954\n",
       "2 2023-07-25 18:10:00+00:00  1054\n",
       "3 2023-07-25 18:15:00+00:00  1274\n",
       "4 2023-07-25 18:20:00+00:00  1766"
      ]
     },
     "execution_count": 15,
     "metadata": {},
     "output_type": "execute_result"
    }
   ],
   "source": [
    "df_sitting.head()"
   ]
  },
  {
   "cell_type": "code",
   "execution_count": 19,
   "id": "2b93f77b",
   "metadata": {},
   "outputs": [
    {
     "data": {
      "text/plain": [
       "DS    datetime64[ns, UTC]\n",
       "Y                   int64\n",
       "dtype: object"
      ]
     },
     "execution_count": 19,
     "metadata": {},
     "output_type": "execute_result"
    }
   ],
   "source": [
    "df_sitting.dtypes"
   ]
  },
  {
   "cell_type": "markdown",
   "id": "1f0a69ff",
   "metadata": {},
   "source": [
    "With 5 min interval and 30 days of sitting people recorded there should be 288 * 30 = 8640 transactions. "
   ]
  },
  {
   "cell_type": "code",
   "execution_count": 16,
   "id": "0edb0550",
   "metadata": {},
   "outputs": [
    {
     "data": {
      "text/plain": [
       "(8632, 2)"
      ]
     },
     "execution_count": 16,
     "metadata": {},
     "output_type": "execute_result"
    }
   ],
   "source": [
    "df_sitting.shape"
   ]
  },
  {
   "cell_type": "markdown",
   "id": "a678345f",
   "metadata": {},
   "source": [
    "Some of the transactions are missing. Let's find out those timings."
   ]
  },
  {
   "cell_type": "code",
   "execution_count": 18,
   "id": "a31b7f8d",
   "metadata": {},
   "outputs": [],
   "source": [
    "start_date = '2023-07-25 18:00:00'\n",
    "end_date = '2023-08-24 17:55:00'"
   ]
  },
  {
   "cell_type": "code",
   "execution_count": 20,
   "id": "c4948fc2",
   "metadata": {},
   "outputs": [],
   "source": [
    "df_date = pd.date_range(start=start_date, end=end_date, freq='5T')"
   ]
  },
  {
   "cell_type": "code",
   "execution_count": 23,
   "id": "861c88e7",
   "metadata": {},
   "outputs": [],
   "source": [
    "date_df = df_date.to_frame(index=False, name='DS')"
   ]
  },
  {
   "cell_type": "code",
   "execution_count": 24,
   "id": "79546fba",
   "metadata": {},
   "outputs": [
    {
     "data": {
      "text/html": [
       "<div>\n",
       "<style scoped>\n",
       "    .dataframe tbody tr th:only-of-type {\n",
       "        vertical-align: middle;\n",
       "    }\n",
       "\n",
       "    .dataframe tbody tr th {\n",
       "        vertical-align: top;\n",
       "    }\n",
       "\n",
       "    .dataframe thead th {\n",
       "        text-align: right;\n",
       "    }\n",
       "</style>\n",
       "<table border=\"1\" class=\"dataframe\">\n",
       "  <thead>\n",
       "    <tr style=\"text-align: right;\">\n",
       "      <th></th>\n",
       "      <th>DS</th>\n",
       "    </tr>\n",
       "  </thead>\n",
       "  <tbody>\n",
       "    <tr>\n",
       "      <th>0</th>\n",
       "      <td>2023-07-25 18:00:00</td>\n",
       "    </tr>\n",
       "    <tr>\n",
       "      <th>1</th>\n",
       "      <td>2023-07-25 18:05:00</td>\n",
       "    </tr>\n",
       "    <tr>\n",
       "      <th>2</th>\n",
       "      <td>2023-07-25 18:10:00</td>\n",
       "    </tr>\n",
       "    <tr>\n",
       "      <th>3</th>\n",
       "      <td>2023-07-25 18:15:00</td>\n",
       "    </tr>\n",
       "    <tr>\n",
       "      <th>4</th>\n",
       "      <td>2023-07-25 18:20:00</td>\n",
       "    </tr>\n",
       "  </tbody>\n",
       "</table>\n",
       "</div>"
      ],
      "text/plain": [
       "                   DS\n",
       "0 2023-07-25 18:00:00\n",
       "1 2023-07-25 18:05:00\n",
       "2 2023-07-25 18:10:00\n",
       "3 2023-07-25 18:15:00\n",
       "4 2023-07-25 18:20:00"
      ]
     },
     "execution_count": 24,
     "metadata": {},
     "output_type": "execute_result"
    }
   ],
   "source": [
    "date_df.head()"
   ]
  },
  {
   "cell_type": "code",
   "execution_count": 25,
   "id": "884de911",
   "metadata": {},
   "outputs": [],
   "source": [
    "df_sitting['DS'] = df_sitting['DS'].dt.tz_localize(None)"
   ]
  },
  {
   "cell_type": "code",
   "execution_count": 26,
   "id": "94403ab6",
   "metadata": {},
   "outputs": [
    {
     "data": {
      "text/html": [
       "<div>\n",
       "<style scoped>\n",
       "    .dataframe tbody tr th:only-of-type {\n",
       "        vertical-align: middle;\n",
       "    }\n",
       "\n",
       "    .dataframe tbody tr th {\n",
       "        vertical-align: top;\n",
       "    }\n",
       "\n",
       "    .dataframe thead th {\n",
       "        text-align: right;\n",
       "    }\n",
       "</style>\n",
       "<table border=\"1\" class=\"dataframe\">\n",
       "  <thead>\n",
       "    <tr style=\"text-align: right;\">\n",
       "      <th></th>\n",
       "      <th>DS</th>\n",
       "      <th>Y</th>\n",
       "    </tr>\n",
       "  </thead>\n",
       "  <tbody>\n",
       "    <tr>\n",
       "      <th>0</th>\n",
       "      <td>2023-07-25 18:00:00</td>\n",
       "      <td>814</td>\n",
       "    </tr>\n",
       "    <tr>\n",
       "      <th>1</th>\n",
       "      <td>2023-07-25 18:05:00</td>\n",
       "      <td>954</td>\n",
       "    </tr>\n",
       "    <tr>\n",
       "      <th>2</th>\n",
       "      <td>2023-07-25 18:10:00</td>\n",
       "      <td>1054</td>\n",
       "    </tr>\n",
       "    <tr>\n",
       "      <th>3</th>\n",
       "      <td>2023-07-25 18:15:00</td>\n",
       "      <td>1274</td>\n",
       "    </tr>\n",
       "    <tr>\n",
       "      <th>4</th>\n",
       "      <td>2023-07-25 18:20:00</td>\n",
       "      <td>1766</td>\n",
       "    </tr>\n",
       "  </tbody>\n",
       "</table>\n",
       "</div>"
      ],
      "text/plain": [
       "                   DS     Y\n",
       "0 2023-07-25 18:00:00   814\n",
       "1 2023-07-25 18:05:00   954\n",
       "2 2023-07-25 18:10:00  1054\n",
       "3 2023-07-25 18:15:00  1274\n",
       "4 2023-07-25 18:20:00  1766"
      ]
     },
     "execution_count": 26,
     "metadata": {},
     "output_type": "execute_result"
    }
   ],
   "source": [
    "df_sitting.head()"
   ]
  },
  {
   "cell_type": "code",
   "execution_count": 27,
   "id": "e0cb0d8f",
   "metadata": {},
   "outputs": [
    {
     "data": {
      "text/html": [
       "<div>\n",
       "<style scoped>\n",
       "    .dataframe tbody tr th:only-of-type {\n",
       "        vertical-align: middle;\n",
       "    }\n",
       "\n",
       "    .dataframe tbody tr th {\n",
       "        vertical-align: top;\n",
       "    }\n",
       "\n",
       "    .dataframe thead th {\n",
       "        text-align: right;\n",
       "    }\n",
       "</style>\n",
       "<table border=\"1\" class=\"dataframe\">\n",
       "  <thead>\n",
       "    <tr style=\"text-align: right;\">\n",
       "      <th></th>\n",
       "      <th>DS</th>\n",
       "    </tr>\n",
       "  </thead>\n",
       "  <tbody>\n",
       "    <tr>\n",
       "      <th>8635</th>\n",
       "      <td>2023-08-24 17:35:00</td>\n",
       "    </tr>\n",
       "    <tr>\n",
       "      <th>8636</th>\n",
       "      <td>2023-08-24 17:40:00</td>\n",
       "    </tr>\n",
       "    <tr>\n",
       "      <th>8637</th>\n",
       "      <td>2023-08-24 17:45:00</td>\n",
       "    </tr>\n",
       "    <tr>\n",
       "      <th>8638</th>\n",
       "      <td>2023-08-24 17:50:00</td>\n",
       "    </tr>\n",
       "    <tr>\n",
       "      <th>8639</th>\n",
       "      <td>2023-08-24 17:55:00</td>\n",
       "    </tr>\n",
       "  </tbody>\n",
       "</table>\n",
       "</div>"
      ],
      "text/plain": [
       "                      DS\n",
       "8635 2023-08-24 17:35:00\n",
       "8636 2023-08-24 17:40:00\n",
       "8637 2023-08-24 17:45:00\n",
       "8638 2023-08-24 17:50:00\n",
       "8639 2023-08-24 17:55:00"
      ]
     },
     "execution_count": 27,
     "metadata": {},
     "output_type": "execute_result"
    }
   ],
   "source": [
    "date_df.tail()"
   ]
  },
  {
   "cell_type": "code",
   "execution_count": 28,
   "id": "bb5e4d20",
   "metadata": {},
   "outputs": [
    {
     "data": {
      "text/html": [
       "<div>\n",
       "<style scoped>\n",
       "    .dataframe tbody tr th:only-of-type {\n",
       "        vertical-align: middle;\n",
       "    }\n",
       "\n",
       "    .dataframe tbody tr th {\n",
       "        vertical-align: top;\n",
       "    }\n",
       "\n",
       "    .dataframe thead th {\n",
       "        text-align: right;\n",
       "    }\n",
       "</style>\n",
       "<table border=\"1\" class=\"dataframe\">\n",
       "  <thead>\n",
       "    <tr style=\"text-align: right;\">\n",
       "      <th></th>\n",
       "      <th>DS</th>\n",
       "      <th>Y</th>\n",
       "    </tr>\n",
       "  </thead>\n",
       "  <tbody>\n",
       "    <tr>\n",
       "      <th>8627</th>\n",
       "      <td>2023-08-24 17:35:00</td>\n",
       "      <td>1925</td>\n",
       "    </tr>\n",
       "    <tr>\n",
       "      <th>8628</th>\n",
       "      <td>2023-08-24 17:40:00</td>\n",
       "      <td>1747</td>\n",
       "    </tr>\n",
       "    <tr>\n",
       "      <th>8629</th>\n",
       "      <td>2023-08-24 17:45:00</td>\n",
       "      <td>1825</td>\n",
       "    </tr>\n",
       "    <tr>\n",
       "      <th>8630</th>\n",
       "      <td>2023-08-24 17:50:00</td>\n",
       "      <td>1734</td>\n",
       "    </tr>\n",
       "    <tr>\n",
       "      <th>8631</th>\n",
       "      <td>2023-08-24 17:55:00</td>\n",
       "      <td>2037</td>\n",
       "    </tr>\n",
       "  </tbody>\n",
       "</table>\n",
       "</div>"
      ],
      "text/plain": [
       "                      DS     Y\n",
       "8627 2023-08-24 17:35:00  1925\n",
       "8628 2023-08-24 17:40:00  1747\n",
       "8629 2023-08-24 17:45:00  1825\n",
       "8630 2023-08-24 17:50:00  1734\n",
       "8631 2023-08-24 17:55:00  2037"
      ]
     },
     "execution_count": 28,
     "metadata": {},
     "output_type": "execute_result"
    }
   ],
   "source": [
    "df_sitting.tail()"
   ]
  },
  {
   "cell_type": "code",
   "execution_count": 32,
   "id": "2c12b2a2",
   "metadata": {},
   "outputs": [],
   "source": [
    "cleaned_df_sitting = date_df.merge(df_sitting, on='DS', how='left') "
   ]
  },
  {
   "cell_type": "code",
   "execution_count": 33,
   "id": "d0ea032a",
   "metadata": {},
   "outputs": [
    {
     "data": {
      "text/plain": [
       "(8640, 2)"
      ]
     },
     "execution_count": 33,
     "metadata": {},
     "output_type": "execute_result"
    }
   ],
   "source": [
    "cleaned_df_sitting.shape"
   ]
  },
  {
   "cell_type": "code",
   "execution_count": 35,
   "id": "9a2c09b3",
   "metadata": {},
   "outputs": [
    {
     "data": {
      "text/html": [
       "<div>\n",
       "<style scoped>\n",
       "    .dataframe tbody tr th:only-of-type {\n",
       "        vertical-align: middle;\n",
       "    }\n",
       "\n",
       "    .dataframe tbody tr th {\n",
       "        vertical-align: top;\n",
       "    }\n",
       "\n",
       "    .dataframe thead th {\n",
       "        text-align: right;\n",
       "    }\n",
       "</style>\n",
       "<table border=\"1\" class=\"dataframe\">\n",
       "  <thead>\n",
       "    <tr style=\"text-align: right;\">\n",
       "      <th></th>\n",
       "      <th>DS</th>\n",
       "      <th>Y</th>\n",
       "    </tr>\n",
       "  </thead>\n",
       "  <tbody>\n",
       "    <tr>\n",
       "      <th>6004</th>\n",
       "      <td>2023-08-15 14:20:00</td>\n",
       "      <td>NaN</td>\n",
       "    </tr>\n",
       "    <tr>\n",
       "      <th>6005</th>\n",
       "      <td>2023-08-15 14:25:00</td>\n",
       "      <td>NaN</td>\n",
       "    </tr>\n",
       "    <tr>\n",
       "      <th>6006</th>\n",
       "      <td>2023-08-15 14:30:00</td>\n",
       "      <td>NaN</td>\n",
       "    </tr>\n",
       "    <tr>\n",
       "      <th>6007</th>\n",
       "      <td>2023-08-15 14:35:00</td>\n",
       "      <td>NaN</td>\n",
       "    </tr>\n",
       "    <tr>\n",
       "      <th>6008</th>\n",
       "      <td>2023-08-15 14:40:00</td>\n",
       "      <td>NaN</td>\n",
       "    </tr>\n",
       "    <tr>\n",
       "      <th>6009</th>\n",
       "      <td>2023-08-15 14:45:00</td>\n",
       "      <td>NaN</td>\n",
       "    </tr>\n",
       "    <tr>\n",
       "      <th>6010</th>\n",
       "      <td>2023-08-15 14:50:00</td>\n",
       "      <td>NaN</td>\n",
       "    </tr>\n",
       "    <tr>\n",
       "      <th>6011</th>\n",
       "      <td>2023-08-15 14:55:00</td>\n",
       "      <td>NaN</td>\n",
       "    </tr>\n",
       "  </tbody>\n",
       "</table>\n",
       "</div>"
      ],
      "text/plain": [
       "                      DS   Y\n",
       "6004 2023-08-15 14:20:00 NaN\n",
       "6005 2023-08-15 14:25:00 NaN\n",
       "6006 2023-08-15 14:30:00 NaN\n",
       "6007 2023-08-15 14:35:00 NaN\n",
       "6008 2023-08-15 14:40:00 NaN\n",
       "6009 2023-08-15 14:45:00 NaN\n",
       "6010 2023-08-15 14:50:00 NaN\n",
       "6011 2023-08-15 14:55:00 NaN"
      ]
     },
     "execution_count": 35,
     "metadata": {},
     "output_type": "execute_result"
    }
   ],
   "source": [
    "cleaned_df_sitting[cleaned_df_sitting.isna().any(axis=1)]"
   ]
  },
  {
   "cell_type": "markdown",
   "id": "e1e96caf",
   "metadata": {},
   "source": [
    "So we do have some NaN values and they are around 8 timestamps. So let's replace them with zeros (meaning that there are no sitting people)"
   ]
  },
  {
   "cell_type": "code",
   "execution_count": 36,
   "id": "40e9f4e2",
   "metadata": {},
   "outputs": [],
   "source": [
    "cleaned_df_sitting.fillna(0, inplace=True)"
   ]
  },
  {
   "cell_type": "code",
   "execution_count": 37,
   "id": "f66ac79e",
   "metadata": {},
   "outputs": [
    {
     "data": {
      "text/html": [
       "<div>\n",
       "<style scoped>\n",
       "    .dataframe tbody tr th:only-of-type {\n",
       "        vertical-align: middle;\n",
       "    }\n",
       "\n",
       "    .dataframe tbody tr th {\n",
       "        vertical-align: top;\n",
       "    }\n",
       "\n",
       "    .dataframe thead th {\n",
       "        text-align: right;\n",
       "    }\n",
       "</style>\n",
       "<table border=\"1\" class=\"dataframe\">\n",
       "  <thead>\n",
       "    <tr style=\"text-align: right;\">\n",
       "      <th></th>\n",
       "      <th>DS</th>\n",
       "      <th>Y</th>\n",
       "    </tr>\n",
       "  </thead>\n",
       "  <tbody>\n",
       "  </tbody>\n",
       "</table>\n",
       "</div>"
      ],
      "text/plain": [
       "Empty DataFrame\n",
       "Columns: [DS, Y]\n",
       "Index: []"
      ]
     },
     "execution_count": 37,
     "metadata": {},
     "output_type": "execute_result"
    }
   ],
   "source": [
    "cleaned_df_sitting[cleaned_df_sitting.isna().any(axis=1)]"
   ]
  },
  {
   "cell_type": "code",
   "execution_count": 39,
   "id": "b8f2f796",
   "metadata": {},
   "outputs": [],
   "source": [
    "cleaned_df_sitting.to_csv('resources/preprocessed_sitting_trans.csv', index=False)"
   ]
  },
  {
   "cell_type": "markdown",
   "id": "b3753be7",
   "metadata": {},
   "source": [
    "Now let's look into the df_standing dataframe."
   ]
  },
  {
   "cell_type": "code",
   "execution_count": 40,
   "id": "b61f1b22",
   "metadata": {},
   "outputs": [
    {
     "data": {
      "text/plain": [
       "(5040, 2)"
      ]
     },
     "execution_count": 40,
     "metadata": {},
     "output_type": "execute_result"
    }
   ],
   "source": [
    "df_standing.shape"
   ]
  },
  {
   "cell_type": "code",
   "execution_count": 41,
   "id": "035ebddb",
   "metadata": {},
   "outputs": [
    {
     "data": {
      "text/html": [
       "<div>\n",
       "<style scoped>\n",
       "    .dataframe tbody tr th:only-of-type {\n",
       "        vertical-align: middle;\n",
       "    }\n",
       "\n",
       "    .dataframe tbody tr th {\n",
       "        vertical-align: top;\n",
       "    }\n",
       "\n",
       "    .dataframe thead th {\n",
       "        text-align: right;\n",
       "    }\n",
       "</style>\n",
       "<table border=\"1\" class=\"dataframe\">\n",
       "  <thead>\n",
       "    <tr style=\"text-align: right;\">\n",
       "      <th></th>\n",
       "      <th>time</th>\n",
       "      <th>standing_people</th>\n",
       "    </tr>\n",
       "  </thead>\n",
       "  <tbody>\n",
       "    <tr>\n",
       "      <th>0</th>\n",
       "      <td>2023-07-25 19:00:00+00:00</td>\n",
       "      <td>12</td>\n",
       "    </tr>\n",
       "    <tr>\n",
       "      <th>1</th>\n",
       "      <td>2023-07-25 19:05:00+00:00</td>\n",
       "      <td>14</td>\n",
       "    </tr>\n",
       "    <tr>\n",
       "      <th>2</th>\n",
       "      <td>2023-07-25 19:10:00+00:00</td>\n",
       "      <td>26</td>\n",
       "    </tr>\n",
       "    <tr>\n",
       "      <th>3</th>\n",
       "      <td>2023-07-25 19:15:00+00:00</td>\n",
       "      <td>16</td>\n",
       "    </tr>\n",
       "    <tr>\n",
       "      <th>4</th>\n",
       "      <td>2023-07-25 19:20:00+00:00</td>\n",
       "      <td>14</td>\n",
       "    </tr>\n",
       "  </tbody>\n",
       "</table>\n",
       "</div>"
      ],
      "text/plain": [
       "                       time  standing_people\n",
       "0 2023-07-25 19:00:00+00:00               12\n",
       "1 2023-07-25 19:05:00+00:00               14\n",
       "2 2023-07-25 19:10:00+00:00               26\n",
       "3 2023-07-25 19:15:00+00:00               16\n",
       "4 2023-07-25 19:20:00+00:00               14"
      ]
     },
     "execution_count": 41,
     "metadata": {},
     "output_type": "execute_result"
    }
   ],
   "source": [
    "df_standing.head()"
   ]
  },
  {
   "cell_type": "code",
   "execution_count": 43,
   "id": "ef5d0108",
   "metadata": {},
   "outputs": [],
   "source": [
    "df_standing.columns = ['DS', 'Y']"
   ]
  },
  {
   "cell_type": "code",
   "execution_count": 44,
   "id": "5e8898ff",
   "metadata": {},
   "outputs": [
    {
     "data": {
      "text/html": [
       "<div>\n",
       "<style scoped>\n",
       "    .dataframe tbody tr th:only-of-type {\n",
       "        vertical-align: middle;\n",
       "    }\n",
       "\n",
       "    .dataframe tbody tr th {\n",
       "        vertical-align: top;\n",
       "    }\n",
       "\n",
       "    .dataframe thead th {\n",
       "        text-align: right;\n",
       "    }\n",
       "</style>\n",
       "<table border=\"1\" class=\"dataframe\">\n",
       "  <thead>\n",
       "    <tr style=\"text-align: right;\">\n",
       "      <th></th>\n",
       "      <th>DS</th>\n",
       "      <th>Y</th>\n",
       "    </tr>\n",
       "  </thead>\n",
       "  <tbody>\n",
       "    <tr>\n",
       "      <th>0</th>\n",
       "      <td>2023-07-25 19:00:00+00:00</td>\n",
       "      <td>12</td>\n",
       "    </tr>\n",
       "    <tr>\n",
       "      <th>1</th>\n",
       "      <td>2023-07-25 19:05:00+00:00</td>\n",
       "      <td>14</td>\n",
       "    </tr>\n",
       "    <tr>\n",
       "      <th>2</th>\n",
       "      <td>2023-07-25 19:10:00+00:00</td>\n",
       "      <td>26</td>\n",
       "    </tr>\n",
       "    <tr>\n",
       "      <th>3</th>\n",
       "      <td>2023-07-25 19:15:00+00:00</td>\n",
       "      <td>16</td>\n",
       "    </tr>\n",
       "    <tr>\n",
       "      <th>4</th>\n",
       "      <td>2023-07-25 19:20:00+00:00</td>\n",
       "      <td>14</td>\n",
       "    </tr>\n",
       "  </tbody>\n",
       "</table>\n",
       "</div>"
      ],
      "text/plain": [
       "                         DS   Y\n",
       "0 2023-07-25 19:00:00+00:00  12\n",
       "1 2023-07-25 19:05:00+00:00  14\n",
       "2 2023-07-25 19:10:00+00:00  26\n",
       "3 2023-07-25 19:15:00+00:00  16\n",
       "4 2023-07-25 19:20:00+00:00  14"
      ]
     },
     "execution_count": 44,
     "metadata": {},
     "output_type": "execute_result"
    }
   ],
   "source": [
    "df_standing.head()"
   ]
  },
  {
   "cell_type": "code",
   "execution_count": 45,
   "id": "7a1cb19c",
   "metadata": {},
   "outputs": [],
   "source": [
    "df_standing['DS'] = df_standing['DS'].dt.tz_localize(None)"
   ]
  },
  {
   "cell_type": "code",
   "execution_count": 46,
   "id": "2006bc94",
   "metadata": {},
   "outputs": [
    {
     "data": {
      "text/html": [
       "<div>\n",
       "<style scoped>\n",
       "    .dataframe tbody tr th:only-of-type {\n",
       "        vertical-align: middle;\n",
       "    }\n",
       "\n",
       "    .dataframe tbody tr th {\n",
       "        vertical-align: top;\n",
       "    }\n",
       "\n",
       "    .dataframe thead th {\n",
       "        text-align: right;\n",
       "    }\n",
       "</style>\n",
       "<table border=\"1\" class=\"dataframe\">\n",
       "  <thead>\n",
       "    <tr style=\"text-align: right;\">\n",
       "      <th></th>\n",
       "      <th>DS</th>\n",
       "      <th>Y</th>\n",
       "    </tr>\n",
       "  </thead>\n",
       "  <tbody>\n",
       "    <tr>\n",
       "      <th>0</th>\n",
       "      <td>2023-07-25 19:00:00</td>\n",
       "      <td>12</td>\n",
       "    </tr>\n",
       "    <tr>\n",
       "      <th>1</th>\n",
       "      <td>2023-07-25 19:05:00</td>\n",
       "      <td>14</td>\n",
       "    </tr>\n",
       "    <tr>\n",
       "      <th>2</th>\n",
       "      <td>2023-07-25 19:10:00</td>\n",
       "      <td>26</td>\n",
       "    </tr>\n",
       "    <tr>\n",
       "      <th>3</th>\n",
       "      <td>2023-07-25 19:15:00</td>\n",
       "      <td>16</td>\n",
       "    </tr>\n",
       "    <tr>\n",
       "      <th>4</th>\n",
       "      <td>2023-07-25 19:20:00</td>\n",
       "      <td>14</td>\n",
       "    </tr>\n",
       "  </tbody>\n",
       "</table>\n",
       "</div>"
      ],
      "text/plain": [
       "                   DS   Y\n",
       "0 2023-07-25 19:00:00  12\n",
       "1 2023-07-25 19:05:00  14\n",
       "2 2023-07-25 19:10:00  26\n",
       "3 2023-07-25 19:15:00  16\n",
       "4 2023-07-25 19:20:00  14"
      ]
     },
     "execution_count": 46,
     "metadata": {},
     "output_type": "execute_result"
    }
   ],
   "source": [
    "df_standing.head()"
   ]
  },
  {
   "cell_type": "code",
   "execution_count": 47,
   "id": "bae8a6a0",
   "metadata": {},
   "outputs": [
    {
     "data": {
      "text/html": [
       "<div>\n",
       "<style scoped>\n",
       "    .dataframe tbody tr th:only-of-type {\n",
       "        vertical-align: middle;\n",
       "    }\n",
       "\n",
       "    .dataframe tbody tr th {\n",
       "        vertical-align: top;\n",
       "    }\n",
       "\n",
       "    .dataframe thead th {\n",
       "        text-align: right;\n",
       "    }\n",
       "</style>\n",
       "<table border=\"1\" class=\"dataframe\">\n",
       "  <thead>\n",
       "    <tr style=\"text-align: right;\">\n",
       "      <th></th>\n",
       "      <th>DS</th>\n",
       "      <th>Y</th>\n",
       "    </tr>\n",
       "  </thead>\n",
       "  <tbody>\n",
       "    <tr>\n",
       "      <th>5035</th>\n",
       "      <td>2023-08-24 18:35:00</td>\n",
       "      <td>3</td>\n",
       "    </tr>\n",
       "    <tr>\n",
       "      <th>5036</th>\n",
       "      <td>2023-08-24 18:40:00</td>\n",
       "      <td>2</td>\n",
       "    </tr>\n",
       "    <tr>\n",
       "      <th>5037</th>\n",
       "      <td>2023-08-24 18:45:00</td>\n",
       "      <td>2</td>\n",
       "    </tr>\n",
       "    <tr>\n",
       "      <th>5038</th>\n",
       "      <td>2023-08-24 18:50:00</td>\n",
       "      <td>5</td>\n",
       "    </tr>\n",
       "    <tr>\n",
       "      <th>5039</th>\n",
       "      <td>2023-08-24 19:00:00</td>\n",
       "      <td>11</td>\n",
       "    </tr>\n",
       "  </tbody>\n",
       "</table>\n",
       "</div>"
      ],
      "text/plain": [
       "                      DS   Y\n",
       "5035 2023-08-24 18:35:00   3\n",
       "5036 2023-08-24 18:40:00   2\n",
       "5037 2023-08-24 18:45:00   2\n",
       "5038 2023-08-24 18:50:00   5\n",
       "5039 2023-08-24 19:00:00  11"
      ]
     },
     "execution_count": 47,
     "metadata": {},
     "output_type": "execute_result"
    }
   ],
   "source": [
    "df_standing.tail()"
   ]
  },
  {
   "cell_type": "code",
   "execution_count": 48,
   "id": "8ab38da3",
   "metadata": {},
   "outputs": [
    {
     "data": {
      "text/html": [
       "<div>\n",
       "<style scoped>\n",
       "    .dataframe tbody tr th:only-of-type {\n",
       "        vertical-align: middle;\n",
       "    }\n",
       "\n",
       "    .dataframe tbody tr th {\n",
       "        vertical-align: top;\n",
       "    }\n",
       "\n",
       "    .dataframe thead th {\n",
       "        text-align: right;\n",
       "    }\n",
       "</style>\n",
       "<table border=\"1\" class=\"dataframe\">\n",
       "  <thead>\n",
       "    <tr style=\"text-align: right;\">\n",
       "      <th></th>\n",
       "      <th>DS</th>\n",
       "    </tr>\n",
       "  </thead>\n",
       "  <tbody>\n",
       "    <tr>\n",
       "      <th>0</th>\n",
       "      <td>2023-07-25 18:00:00</td>\n",
       "    </tr>\n",
       "    <tr>\n",
       "      <th>1</th>\n",
       "      <td>2023-07-25 18:05:00</td>\n",
       "    </tr>\n",
       "    <tr>\n",
       "      <th>2</th>\n",
       "      <td>2023-07-25 18:10:00</td>\n",
       "    </tr>\n",
       "    <tr>\n",
       "      <th>3</th>\n",
       "      <td>2023-07-25 18:15:00</td>\n",
       "    </tr>\n",
       "    <tr>\n",
       "      <th>4</th>\n",
       "      <td>2023-07-25 18:20:00</td>\n",
       "    </tr>\n",
       "  </tbody>\n",
       "</table>\n",
       "</div>"
      ],
      "text/plain": [
       "                   DS\n",
       "0 2023-07-25 18:00:00\n",
       "1 2023-07-25 18:05:00\n",
       "2 2023-07-25 18:10:00\n",
       "3 2023-07-25 18:15:00\n",
       "4 2023-07-25 18:20:00"
      ]
     },
     "execution_count": 48,
     "metadata": {},
     "output_type": "execute_result"
    }
   ],
   "source": [
    "date_df.head()"
   ]
  },
  {
   "cell_type": "code",
   "execution_count": 49,
   "id": "70e763be",
   "metadata": {},
   "outputs": [],
   "source": [
    "cleaned_standing_df = date_df.merge(df_standing, on='DS', how='left')"
   ]
  },
  {
   "cell_type": "code",
   "execution_count": 50,
   "id": "2f379e21",
   "metadata": {},
   "outputs": [
    {
     "data": {
      "text/plain": [
       "(8640, 2)"
      ]
     },
     "execution_count": 50,
     "metadata": {},
     "output_type": "execute_result"
    }
   ],
   "source": [
    "cleaned_standing_df.shape"
   ]
  },
  {
   "cell_type": "code",
   "execution_count": 51,
   "id": "33a1bd2e",
   "metadata": {},
   "outputs": [
    {
     "data": {
      "text/plain": [
       "3609"
      ]
     },
     "execution_count": 51,
     "metadata": {},
     "output_type": "execute_result"
    }
   ],
   "source": [
    "len(cleaned_standing_df[cleaned_standing_df.isna().any(axis=1)])"
   ]
  },
  {
   "cell_type": "code",
   "execution_count": 52,
   "id": "24ea3ff5",
   "metadata": {},
   "outputs": [],
   "source": [
    "cleaned_standing_df.fillna(0, inplace=True)"
   ]
  },
  {
   "cell_type": "code",
   "execution_count": 53,
   "id": "63620489",
   "metadata": {},
   "outputs": [
    {
     "data": {
      "text/plain": [
       "0"
      ]
     },
     "execution_count": 53,
     "metadata": {},
     "output_type": "execute_result"
    }
   ],
   "source": [
    "len(cleaned_standing_df[cleaned_standing_df.isna().any(axis=1)])"
   ]
  },
  {
   "cell_type": "code",
   "execution_count": 54,
   "id": "6e02a94e",
   "metadata": {},
   "outputs": [],
   "source": [
    "cleaned_standing_df.to_csv('resources/preprocessed_standing_trans.csv', index=False )"
   ]
  },
  {
   "cell_type": "code",
   "execution_count": null,
   "id": "99be3238",
   "metadata": {},
   "outputs": [],
   "source": []
  }
 ],
 "metadata": {
  "kernelspec": {
   "display_name": "Python 3 (ipykernel)",
   "language": "python",
   "name": "python3"
  },
  "language_info": {
   "codemirror_mode": {
    "name": "ipython",
    "version": 3
   },
   "file_extension": ".py",
   "mimetype": "text/x-python",
   "name": "python",
   "nbconvert_exporter": "python",
   "pygments_lexer": "ipython3",
   "version": "3.9.13"
  }
 },
 "nbformat": 4,
 "nbformat_minor": 5
}
